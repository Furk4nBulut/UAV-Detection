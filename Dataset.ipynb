{
 "cells": [
  {
   "cell_type": "markdown",
   "metadata": {},
   "source": [
    "# YOLOv11 Veri Seti Tanıtımı\n",
    "\n",
    "Bu notebook, YOLOv11 formatındaki veri setimizi tanıtmak için hazırlanmıştır. Veri setinin yapısını, örnek görüntüleri, etiketleri ve temel istatistikleri inceleyeceğiz.\n",
    "\n",
    "## Veri Seti Yapısı\n",
    "- **Görüntüler**: `dataset/images/` klasöründe `.jpg` formatında.\n",
    "- **Etiketler**: `dataset/labels/` klasöründe `.txt` formatında, YOLO formatında (`class_id center_x center_y width height`).\n",
    "- **Sınıflar**: `dataset/classes.txt` dosyasında tanımlı.\n",
    "\n",
    "## Gereksinimler\n",
    "- Python kütüphaneleri: `os`, `matplotlib`, `pandas`, `opencv-python`.\n",
    "\n",
    "Kurulum için:\n",
    "```bash\n",
    "pip install opencv-python matplotlib pandas\n",
    "```"
   ]
  },
  {
   "cell_type": "code",
   "metadata": {},
   "source": [
    "import os\n",
    "import cv2\n",
    "import matplotlib.pyplot as plt\n",
    "import pandas as pd\n",
    "from pathlib import Path\n",
    "\n",
    "# Veri seti yollarını tanımla\n",
    "DATASET_PATH = 'Dataset/'\n",
    "IMAGES_PATH = os.path.join(DATASET_PATH, 'valid/images')\n",
    "LABELS_PATH = os.path.join(DATASET_PATH, 'valid/labels')\n",
    "CLASSES_FILE = os.path.join(DATASET_PATH, 'data.yaml')\n",
    "\n",
    "# Sınıf isimlerini oku\n",
    "with open(CLASSES_FILE, 'r') as f:\n",
    "    classes = [line.strip() for line in f.readlines()]\n",
    "\n",
    "print(f'Sınıflar: {classes}')\n",
    "print(f'Toplam sınıf sayısı: {len(classes)}')"
   ],
   "outputs": [],
   "execution_count": null
  },
  {
   "cell_type": "markdown",
   "metadata": {},
   "source": [
    "## Veri Seti İstatistikleri\n",
    "\n",
    "Görüntü sayısını, etiket sayısını ve sınıf dağılımını hesaplayalım."
   ]
  },
  {
   "cell_type": "code",
   "metadata": {},
   "source": [
    "# Görüntü ve etiket dosyalarını listele\n",
    "image_files = [f for f in os.listdir(IMAGES_PATH) if f.endswith('.jpg')]\n",
    "label_files = [f for f in os.listdir(LABELS_PATH) if f.endswith('.txt')]\n",
    "\n",
    "print(f'Toplam görüntü sayısı: {len(image_files)}')\n",
    "print(f'Toplam etiket dosyası sayısı: {len(label_files)}')\n",
    "\n",
    "# Sınıf dağılımını hesapla\n",
    "class_counts = {class_name: 0 for class_name in classes}\n",
    "\n",
    "for label_file in label_files:\n",
    "    with open(os.path.join(LABELS_PATH, label_file), 'r') as f:\n",
    "        lines = f.readlines()\n",
    "        for line in lines:\n",
    "            class_id = int(line.split()[0])\n",
    "            class_counts[classes[class_id]] += 1\n",
    "\n",
    "# Sınıf dağılımını görselleştir\n",
    "plt.figure(figsize=(10, 5))\n",
    "plt.bar(class_counts.keys(), class_counts.values())\n",
    "plt.title('Sınıf Dağılımı')\n",
    "plt.xlabel('Sınıf')\n",
    "plt.ylabel('Örnek Sayısı')\n",
    "plt.xticks(rotation=45)\n",
    "plt.show()"
   ],
   "outputs": [],
   "execution_count": null
  },
  {
   "cell_type": "markdown",
   "metadata": {},
   "source": [
    "## Örnek Görüntü ve Etiket Görselleştirme\n",
    "\n",
    "Birkaç örnek görüntü ve üzerlerinde etiket kutularını görselleştirelim."
   ]
  },
  {
   "cell_type": "code",
   "metadata": {},
   "source": [
    "def draw_bboxes(image_path, label_path, classes):\n",
    "    # Görüntüyü oku\n",
    "    img = cv2.imread(image_path)\n",
    "    img = cv2.cvtColor(img, cv2.COLOR_BGR2RGB)\n",
    "    h, w, _ = img.shape\n",
    "\n",
    "    # Etiketleri oku\n",
    "    with open(label_path, 'r') as f:\n",
    "        lines = f.readlines()\n",
    "\n",
    "    for line in lines:\n",
    "        class_id, x_center, y_center, width, height = map(float, line.split())\n",
    "        class_id = int(class_id)\n",
    "\n",
    "        # Koordinatları piksele çevir\n",
    "        x_center *= w\n",
    "        y_center *= h\n",
    "        width *= w\n",
    "        height *= h\n",
    "\n",
    "        # Sol üst ve sağ alt köşeleri hesapla\n",
    "        x1 = int(x_center - width / 2)\n",
    "        y1 = int(y_center - height / 2)\n",
    "        x2 = int(x_center + width / 2)\n",
    "        y2 = int(y_center + height / 2)\n",
    "\n",
    "        # Kutuyu çiz\n",
    "        cv2.rectangle(img, (x1, y1), (x2, y2), (255, 0, 0), 2)\n",
    "        # Sınıf ismini yaz\n",
    "        cv2.putText(img, classes[class_id], (x1, y1 - 10), cv2.FONT_HERSHEY_SIMPLEX, 0.9, (255, 0, 0), 2)\n",
    "\n",
    "    return img\n",
    "\n",
    "# İlk 3 görüntüyü görselleştir\n",
    "for i, image_file in enumerate(image_files[:5]):\n",
    "    image_path = os.path.join(IMAGES_PATH, image_file)\n",
    "    label_path = os.path.join(LABELS_PATH, image_file.replace('.jpg', '.txt'))\n",
    "\n",
    "    if os.path.exists(label_path):\n",
    "        img = draw_bboxes(image_path, label_path, classes)\n",
    "        plt.figure(figsize=(8, 6))\n",
    "        plt.imshow(img)\n",
    "        plt.title(f'Örnek Görüntü {i+1}: {image_file}')\n",
    "        plt.axis('off')\n",
    "        plt.show()\n",
    "    else:\n",
    "        print(f'Etiket dosyası bulunamadı: {label_path}')"
   ],
   "outputs": [],
   "execution_count": null
  }
 ],
 "metadata": {
  "kernelspec": {
   "display_name": "Python 3",
   "language": "python",
   "name": "python3"
  },
  "language_info": {
   "codemirror_mode": {
    "name": "ipython",
    "version": 3
   },
   "file_extension": ".py",
   "mimetype": "text/x-python",
   "name": "python",
   "nbconvert_exporter": "python",
   "pygments_lexer": "ipython3",
   "version": "3.8.10"
  }
 },
 "nbformat": 4,
 "nbformat_minor": 4
}
