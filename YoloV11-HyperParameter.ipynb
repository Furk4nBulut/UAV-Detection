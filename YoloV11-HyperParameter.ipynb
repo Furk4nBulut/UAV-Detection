{
 "cells": [
  {
   "cell_type": "markdown",
   "metadata": {},
   "source": [
    "# UAV Tespiti için YOLOv11 Modeli\n",
    "\n",
    "Bu Jupyter Notebook, YOLOv11 modelini kullanarak insansız hava araçlarını (UAV) tespit etmek için bir pipeline oluşturur. Aşağıdaki adımları içerir:\n",
    "- **Eğitim**: Modeli veri setinizle eğitir.\n",
    "- **Doğrulama**: Eğitilen modelin performansını değerlendirir.\n",
    "- **Tahmin**: Yeni görüntüler üzerinde tahmin yapar.\n",
    "- **Dışa Aktarma**: Modeli ONNX gibi formatlarda dışa aktarır.\n",
    "\n",
    "Hiperparametreler bir yapılandırma dosyasında (YAML) tanımlanır ve kolayca değiştirilebilir. Türkçe açıklamalar, her adımı anlamanıza yardımcı olur."
   ]
  },
  {
   "cell_type": "markdown",
   "metadata": {},
   "source": [
    "## 1. Kütüphaneleri İçe Aktarma\n",
    "\n",
    "Bu bölümde, gerekli Python kütüphanelerini içe aktarıyoruz:\n",
    "- `ultralytics`: YOLO modelini çalıştırmak için.\n",
    "- `yaml`: Yapılandırma dosyasını oluşturmak ve okumak için.\n",
    "- `os`: Dosya ve dizin işlemleri için."
   ]
  },
  {
   "cell_type": "code",
   "metadata": {},
   "source": [
    "from ultralytics import YOLO\n",
    "import yaml\n",
    "import os"
   ],
   "outputs": [],
   "execution_count": null
  },
  {
   "cell_type": "markdown",
   "metadata": {},
   "source": [
    "## 2. Yapılandırma Ayarları\n",
    "\n",
    "Hiperparametreler ve dosya yolları bir `config` sözlüğünde tanımlanır. Bu ayarlar, modelin nasıl eğitileceği, doğrulanacağı ve kullanılacağı gibi detayları içerir. Ayarları değiştirmek için bu bölümü düzenleyebilirsiniz.\n",
    "\n",
    "**Önemli Alanlar**:\n",
    "- `model`: Kullanılacak model mimarisi (örn. yolo11n) ve önceden eğitilmiş ağırlıklar.\n",
    "- `training`: Eğitim için epoch sayısı, görüntü boyutu, öğrenme oranı gibi parametreler.\n",
    "- `validation`: Doğrulama veri seti ve ayarları.\n",
    "- `prediction`: Tahmin için kullanılacak görüntü ve eşik değerleri.\n",
    "- `export`: Modelin dışa aktarılacağı format.\n",
    "\n",
    "Yapılandırma, bir YAML dosyasına kaydedilir ve tekrar kullanılabilir."
   ]
  },
  {
   "cell_type": "code",
   "metadata": {},
   "source": [
    "# Yapılandırma sözlüğü\n",
    "config = {\n",
    "    'model': {\n",
    "        'architecture': 'yolo11n',  # Model: yolo11n, yolo11s, yolo11m vb.\n",
    "        'pretrained': True,         # Önceden eğitilmiş ağırlıkları kullan\n",
    "        'weights': 'yolo11n.pt',    # Önceden eğitilmiş ağırlık dosyası\n",
    "        'custom_weights': '/home/furkanblt/PycharmProjects/UAV-Detection/runs/detect/train16/weights/best.pt'  # Özel model ağırlıkları\n",
    "    },\n",
    "    'training': {\n",
    "        'data': '/home/furkanblt/PycharmProjects/UAV-Detection/Dataset/data.yaml',  # Veri seti YAML dosyası\n",
    "        'epochs': 2,                # Eğitim için epoch sayısı\n",
    "        'imgsz': 640,               # Görüntü boyutu (piksel)\n",
    "        'batch_size': 16,           # Parti boyutu\n",
    "        'optimizer': 'Adam',        # Optimizasyon algoritması\n",
    "        'lr0': 0.001,               # Başlangıç öğrenme oranı\n",
    "        'patience': 50,             # Erken durdurma sabrı\n",
    "        'device': '',               # '0' GPU, '' otomatik, 'cpu' CPU için\n",
    "        'augment': True             # Veri artırma\n",
    "    },\n",
    "    'validation': {\n",
    "        'data': None,               # Doğrulama veri seti (None ise eğitim veri seti kullanılır)\n",
    "        'imgsz': 640                # Doğrulama görüntü boyutu\n",
    "    },\n",
    "    'prediction': {\n",
    "        'image_path': '/home/furkanblt/PycharmProjects/UAV-Detection/validations/bt2.jpg',  # Tahmin yapılacak görüntü\n",
    "        'conf': 0.25,               # Güven eşiği\n",
    "        'iou': 0.45,                # IoU eşiği (NMS için)\n",
    "        'save': True,               # Sonuçları kaydet\n",
    "        'save_path': 'validations/valid-data/result.jpg'  # Sonuçların kaydedileceği yol\n",
    "    },\n",
    "    'export': {\n",
    "        'format': 'onnx',           # Dışa aktarma formatı: onnx, torchscript vb.\n",
    "        'simplify': True            # ONNX modelini basitleştir\n",
    "    }\n",
    "}\n",
    "\n",
    "# Yapılandırmayı YAML dosyasına kaydet\n",
    "config_file = 'uav_detection_config.yaml'\n",
    "with open(config_file, 'w') as f:\n",
    "    yaml.dump(config, f)\n",
    "print(f\"Yapılandırma dosyası oluşturuldu: {config_file}\")"
   ],
   "outputs": [],
   "execution_count": null
  },
  {
   "cell_type": "markdown",
   "metadata": {},
   "source": [
    "## 3. Model Eğitimi\n",
    "\n",
    "Bu bölümde, YOLOv11 modelini veri setinizle eğitiriz. Model, yapılandırma dosyasındaki ayarlara göre yüklenir ve eğitilir.\n",
    "\n",
    "**Ne Yapılır**:\n",
    "- Model, `yolo11n.yaml` dosyasından oluşturulur veya önceden eğitilmiş ağırlıklar yüklenir.\n",
    "- Eğitim, belirtilen epoch sayısı, görüntü boyutu ve diğer hiperparametrelerle yapılır.\n",
    "- Eğitim sonuçları döndürülür ve kaydedilir."
   ]
  },
  {
   "cell_type": "code",
   "metadata": {},
   "source": [
    "def train_model(config):\n",
    "    # Model ayarlarını al\n",
    "    model_config = config['model']\n",
    "    train_config = config['training']\n",
    "    \n",
    "    # Modeli yükle\n",
    "    if model_config['pretrained']:\n",
    "        model = YOLO(model_config['weights'])  # Önceden eğitilmiş modeli yükle\n",
    "    else:\n",
    "        model = YOLO(f\"{model_config['architecture']}.yaml\").load(model_config['weights'])  # YAML'dan oluştur ve ağırlıkları aktar\n",
    "\n",
    "    # Modeli eğit\n",
    "    print(\"Eğitim başlıyor...\")\n",
    "    results = model.train(\n",
    "        data=train_config['data'],\n",
    "        epochs=train_config['epochs'],\n",
    "        imgsz=train_config['imgsz'],\n",
    "        batch=train_config['batch_size'],\n",
    "        optimizer=train_config['optimizer'],\n",
    "        lr0=train_config['lr0'],\n",
    "        patience=train_config['patience'],\n",
    "        device=train_config['device'],\n",
    "        augment=train_config['augment']\n",
    "    )\n",
    "    print(\"Eğitim tamamlandı!\")\n",
    "    return model, results\n",
    "\n",
    "# Eğitimi çalıştır\n",
    "trained_model, train_results = train_model(config)"
   ],
   "outputs": [],
   "execution_count": null
  },
  {
   "cell_type": "markdown",
   "metadata": {},
   "source": [
    "## 4. Model Doğrulama\n",
    "\n",
    "Eğitilen modelin performansı, doğrulama veri seti üzerinde test edilir. Bu adım, modelin ne kadar iyi genelleştiğini gösterir.\n",
    "\n",
    "**Ölçümler**:\n",
    "- mAP50-95: Ortalama hassasiyet (tüm IoU eşikleri).\n",
    "- mAP50: IoU=0.5 için hassasiyet.\n",
    "- mAP75: IoU=0.75 için hassasiyet.\n",
    "- Kategorilere göre mAP değerleri."
   ]
  },
  {
   "cell_type": "code",
   "metadata": {},
   "source": [
    "def validate_model(config, model=None):\n",
    "    val_config = config['validation']\n",
    "    model_config = config['model']\n",
    "    \n",
    "    # Modeli yükle (eğer sağlanmadıysa)\n",
    "    if model is None:\n",
    "        model = YOLO(model_config['custom_weights'])\n",
    "    \n",
    "    # Modeli doğrula\n",
    "    print(\"Doğrulama başlıyor...\")\n",
    "    metrics = model.val(\n",
    "        data=val_config['data'] or config['training']['data'],\n",
    "        imgsz=val_config['imgsz']\n",
    "    )\n",
    "    \n",
    "    # Sonuçları yazdır\n",
    "    print(f\"mAP50-95: {metrics.box.map:.4f}\")\n",
    "    print(f\"mAP50: {metrics.box.map50:.4f}\")\n",
    "    print(f\"mAP75: {metrics.box.map75:.4f}\")\n",
    "    print(f\"Kategorilere göre mAP: {metrics.box.maps}\")\n",
    "    \n",
    "    return metrics\n",
    "\n",
    "# Doğrulamayı çalıştır\n",
    "val_metrics = validate_model(config, trained_model)"
   ],
   "outputs": [],
   "execution_count": null
  },
  {
   "cell_type": "markdown",
   "metadata": {},
   "source": [
    "## 5. Tahmin Yapma\n",
    "\n",
    "Bu bölümde, eğitilen model yeni bir görüntü üzerinde tahmin yapar. Tahmin sonuçları, sınırlayıcı kutular (bounding boxes), sınıflar ve güven skorları içerir.\n",
    "\n",
    "**Ne Yapılır**:\n",
    "- Model, belirtilen görüntü üzerinde tahmin yapar.\n",
    "- Sonuçlar ekranda gösterilir ve istenirse bir dosyaya kaydedilir.\n",
    "- Sınırlayıcı kutuların koordinatları ve güven skorları yazdırılır."
   ]
  },
  {
   "cell_type": "code",
   "metadata": {},
   "source": [
    "def predict_model(config, model=None):\n",
    "    pred_config = config['prediction']\n",
    "    model_config = config['model']\n",
    "    \n",
    "    # Modeli yükle (eğer sağlanmadıysa)\n",
    "    if model is None:\n",
    "        model = YOLO(model_config['custom_weights'])\n",
    "    \n",
    "    # Tahmin yap\n",
    "    print(\"Tahmin yapılıyor...\")\n",
    "    results = model(\n",
    "        pred_config['image_path'],\n",
    "        conf=pred_config['conf'],\n",
    "        iou=pred_config['iou'],\n",
    "        stream=True\n",
    "    )\n",
    "    \n",
    "    # Sonuçları işle\n",
    "    for result in results:\n",
    "        boxes = result.boxes\n",
    "        xywh = boxes.xywh  # Merkez-x, merkez-y, genişlik, yükseklik\n",
    "        xywhn = boxes.xywhn  # Normalleştirilmiş\n",
    "        xyxy = boxes.xyxy  # Sol-üst-x, sol-üst-y, sağ-alt-x, sağ-alt-y\n",
    "        xyxyn = boxes.xyxyn  # Normalleştirilmiş\n",
    "        names = [result.names[cls.item()] for cls in boxes.cls.int()]  # Sınıf isimleri\n",
    "        confs = boxes.conf  # Güven skorları\n",
    "        \n",
    "        # Sonuçları yazdır\n",
    "        print(f\"Tespit edilen nesneler: {names}\")\n",
    "        print(f\"Güven skorları: {confs.tolist()}\")\n",
    "        \n",
    "        # Kaydet veya göster\n",
    "        if pred_config['save']:\n",
    "            os.makedirs(os.path.dirname(pred_config['save_path']), exist_ok=True)\n",
    "            result.save(filename=pred_config['save_path'])\n",
    "            print(f\"Sonuç kaydedildi: {pred_config['save_path']}\")\n",
    "        result.show()  # Ekranda göster\n",
    "    \n",
    "    return results\n",
    "\n",
    "# Tahmini çalıştır\n",
    "pred_results = predict_model(config, trained_model)"
   ],
   "outputs": [],
   "execution_count": null
  },
  {
   "cell_type": "markdown",
   "metadata": {},
   "source": [
    "## 6. Modeli Dışa Aktarma\n",
    "\n",
    "Eğitilen model, belirtilen formatta (örneğin ONNX) dışa aktarılır. Bu, modelin farklı platformlarda kullanılmasını sağlar.\n",
    "\n",
    "**Ne Yapılır**:\n",
    "- Model, yapılandırma dosyasındaki formata göre dışa aktarılır.\n",
    "- ONNX için basitleştirme seçeneği kullanılır."
   ]
  },
  {
   "cell_type": "code",
   "metadata": {},
   "source": [
    "def export_model(config, model=None):\n",
    "    export_config = config['export']\n",
    "    model_config = config['model']\n",
    "    \n",
    "    # Modeli yükle (eğer sağlanmadıysa)\n",
    "    if model is None:\n",
    "        model = YOLO(model_config['custom_weights'])\n",
    "    \n",
    "    # Modeli dışa aktar\n",
    "    print(\"Model dışa aktarılıyor...\")\n",
    "    export_path = model.export(\n",
    "        format=export_config['format'],\n",
    "        simplify=export_config['simplify']\n",
    "    )\n",
    "    print(f\"Model şu yola dışa aktarıldı: {export_path}\")\n",
    "    return export_path\n",
    "\n",
    "# Dışa aktarmayı çalıştır\n",
    "export_path = export_model(config, trained_model)"
   ],
   "outputs": [],
   "execution_count": null
  },
  {
   "cell_type": "markdown",
   "metadata": {},
   "source": [
    "## 7. Hiperparametre Optimizasyonu\n",
    "\n",
    "Modelin performansını artırmak için hiperparametreleri optimize edebilirsiniz. Aşağıdaki kod, farklı öğrenme oranları ve parti boyutları ile denemeler yapar.\n",
    "\n",
    "**Nasıl Kullanılır**:\n",
    "- `hyperparams` sözlüğünü düzenleyerek test etmek istediğiniz değerleri belirleyin.\n",
    "- Her kombinasyon için model eğitilir ve doğrulanır."
   ]
  },
  {
   "cell_type": "code",
   "metadata": {},
   "source": [
    "from itertools import product\n",
    "\n",
    "# Test edilecek hiperparametreler\n",
    "hyperparams = {\n",
    "    'lr0': [0.0001, 0.001],\n",
    "    'batch_size': [8, 16]\n",
    "}\n",
    "\n",
    "# Hiperparametre kombinasyonlarını dene\n",
    "for lr, batch in product(hyperparams['lr0'], hyperparams['batch_size']):\n",
    "    print(f\"Deneme: lr0={lr}, batch_size={batch}\")\n",
    "    config['training']['lr0'] = lr\n",
    "    config['training']['batch_size'] = batch\n",
    "    \n",
    "    # Modeli eğit ve doğrula\n",
    "    model, results = train_model(config)\n",
    "    metrics = validate_model(config, model)\n",
    "    print(f\"mAP50-95: {metrics.box.map:.4f}\\n\")"
   ],
   "outputs": [],
   "execution_count": null
  },
  {
   "cell_type": "markdown",
   "metadata": {},
   "source": [
    "## Sonuç\n",
    "\n",
    "Bu notebook, YOLOv11 modelini kullanarak UAV tespiti için kapsamlı bir pipeline sunar. Yapılandırma dosyasını düzenleyerek hiperparametreleri kolayca değiştirebilir, modeli eğitebilir, doğrulayabilir, tahmin yapabilir ve dışa aktarabilirsiniz.\n",
    "\n",
    "**Öneriler**:\n",
    "- Veri setinizin `data.yaml` dosyasında doğru yollar ve sınıflar tanımlı olduğundan emin olun.\n",
    "- Daha iyi sonuçlar için `epochs` sayısını artırın (örn. 50-100).\n",
    "- GPU kullanıyorsanız, `batch_size` ve `imgsz` değerlerini donanımınıza göre ayarlayın.\n",
    "- Sorun yaşarsanız, hata mesajlarını paylaşarak destek alabilirsiniz!"
   ]
  }
 ],
 "metadata": {
  "kernelspec": {
   "display_name": "Python 3",
   "language": "python",
   "name": "python3"
  },
  "language_info": {
   "codemirror_mode": {
    "name": "ipython",
    "version": 3
   },
   "file_extension": ".py",
   "mimetype": "text/x-python",
   "name": "python",
   "nbconvert_exporter": "python",
   "pygments_lexer": "ipython3",
   "version": "3.8.10"
  }
 },
 "nbformat": 4,
 "nbformat_minor": 4
}
