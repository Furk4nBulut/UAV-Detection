{
 "cells": [
  {
   "metadata": {},
   "cell_type": "markdown",
   "source": "Imports",
   "id": "14998482f5bdf865"
  },
  {
   "metadata": {
    "ExecuteTime": {
     "end_time": "2025-03-02T15:09:20.628962Z",
     "start_time": "2025-03-02T15:09:18.745016Z"
    }
   },
   "cell_type": "code",
   "source": "from ultralytics import YOLO",
   "id": "af074f65fc0fba88",
   "outputs": [],
   "execution_count": 1
  },
  {
   "metadata": {},
   "cell_type": "markdown",
   "source": "Traning",
   "id": "ec8fb00736c0c9c7"
  },
  {
   "cell_type": "code",
   "id": "initial_id",
   "metadata": {
    "collapsed": true,
    "jupyter": {
     "is_executing": true
    },
    "ExecuteTime": {
     "start_time": "2025-03-02T15:10:24.156318Z"
    }
   },
   "source": [
    "# Load a model\n",
    "model = YOLO(\"yolo11n.yaml\")  # build a new model from YAML\n",
    "model = YOLO(\"yolo11n.pt\")  # load a pretrained model (recommended for training)\n",
    "model = YOLO(\"yolo11n.yaml\").load(\"yolo11n.pt\")  # build from YAML and transfer weights\n",
    "\n",
    "# Train the model\n",
    "results = model.train(data=\"/home/furkanblt/PycharmProjects/UAV-Detection/Dataset/OneLabel/data.yaml\", epochs=7, imgsz=640)"
   ],
   "outputs": [
    {
     "name": "stdout",
     "output_type": "stream",
     "text": [
      "Transferred 499/499 items from pretrained weights\n"
     ]
    }
   ],
   "execution_count": null
  },
  {
   "metadata": {},
   "cell_type": "markdown",
   "source": "Validating",
   "id": "5d8f74dd49afb539"
  },
  {
   "metadata": {
    "ExecuteTime": {
     "end_time": "2025-03-01T12:38:56.393230Z",
     "start_time": "2025-03-01T12:38:42.119895Z"
    }
   },
   "cell_type": "code",
   "source": [
    "# Load a model\n",
    "# model = YOLO(\"yolo11n.pt\")  # load an official model\n",
    "model = YOLO(\"/home/furkanblt/PycharmProjects/UAV-Detection/runs/detect/train17/weights/best.pt\")  # load a custom model\n",
    "\n",
    "# Validate the model\n",
    "metrics = model.val()  # no arguments needed, dataset and settings remembered\n",
    "metrics.box.map  # map50-95\n",
    "metrics.box.map50  # map50\n",
    "metrics.box.map75  # map75\n",
    "metrics.box.maps  # a list contains map50-95 of each category"
   ],
   "id": "6ea7d6ddfd8cce4b",
   "outputs": [
    {
     "name": "stdout",
     "output_type": "stream",
     "text": [
      "Ultralytics 8.3.80 🚀 Python-3.11.11 torch-2.5.1 CUDA:0 (NVIDIA GeForce RTX 3060 Laptop GPU, 5938MiB)\n",
      "YOLO11n summary (fused): 100 layers, 2,582,542 parameters, 0 gradients\n"
     ]
    },
    {
     "name": "stderr",
     "output_type": "stream",
     "text": [
      "\u001B[34m\u001B[1mval: \u001B[0mScanning /home/furkanblt/PycharmProjects/UAV-Detection/Dataset/DroneDetective/valid/labels.cache... 1452 images, 0 backgrounds, 0 corrupt: 100%|██████████| 1452/1452 [00:00<?, ?it/s]\n",
      "                 Class     Images  Instances      Box(P          R      mAP50  mAP50-95): 100%|██████████| 91/91 [00:11<00:00,  8.13it/s]\n"
     ]
    },
    {
     "name": "stdout",
     "output_type": "stream",
     "text": [
      "                   all       1452       1543      0.903      0.888       0.92      0.529\n",
      "                   UAV        224        226      0.855      0.832      0.862      0.382\n",
      "                 drone       1228       1317       0.95      0.944      0.978      0.677\n",
      "Speed: 0.4ms preprocess, 4.1ms inference, 0.0ms loss, 0.8ms postprocess per image\n",
      "Results saved to \u001B[1mruns/detect/val6\u001B[0m\n"
     ]
    },
    {
     "data": {
      "text/plain": [
       "array([    0.38228,      0.6766])"
      ]
     },
     "execution_count": 3,
     "metadata": {},
     "output_type": "execute_result"
    }
   ],
   "execution_count": 3
  },
  {
   "metadata": {},
   "cell_type": "markdown",
   "source": ";Predict",
   "id": "a6b46b4d48174dd8"
  },
  {
   "metadata": {
    "ExecuteTime": {
     "end_time": "2025-03-01T12:39:12.449178Z",
     "start_time": "2025-03-01T12:39:12.247255Z"
    }
   },
   "cell_type": "code",
   "source": [
    "# Load a model\n",
    "# model = YOLO(\"yolo11n.pt\")  # load an official model\n",
    "model = YOLO(\"/home/furkanblt/PycharmProjects/UAV-Detection/runs/detect/train17/weights/best.pt\")  # load a custom model\n",
    "\n",
    "# Predict with the model\n",
    "results = model(\"/home/furkanblt/PycharmProjects/UAV-Detection/bt2.jpg\")  # predict on an image\n",
    "\n",
    "# Access the results\n",
    "for result in results:\n",
    "    xywh = result.boxes.xywh  # center-x, center-y, width, height\n",
    "    xywhn = result.boxes.xywhn  # normalized\n",
    "    xyxy = result.boxes.xyxy  # top-left-x, top-left-y, bottom-right-x, bottom-right-y\n",
    "    xyxyn = result.boxes.xyxyn  # normalized\n",
    "    names = [result.names[cls.item()] for cls in result.boxes.cls.int()]  # class name of each box\n",
    "    confs = result.boxes.conf  # confidence score of each box\n"
   ],
   "id": "ad72926156fe13ec",
   "outputs": [
    {
     "name": "stdout",
     "output_type": "stream",
     "text": [
      "\n",
      "image 1/1 /home/furkanblt/PycharmProjects/UAV-Detection/bt2.jpg: 416x640 1 UAV, 1 drone, 45.2ms\n",
      "Speed: 1.7ms preprocess, 45.2ms inference, 1.3ms postprocess per image at shape (1, 3, 416, 640)\n"
     ]
    }
   ],
   "execution_count": 4
  },
  {
   "metadata": {},
   "cell_type": "markdown",
   "source": "Export",
   "id": "c288745a4dd2aa26"
  },
  {
   "metadata": {
    "ExecuteTime": {
     "end_time": "2025-03-01T12:39:32.600996Z",
     "start_time": "2025-03-01T12:39:31.267114Z"
    }
   },
   "cell_type": "code",
   "source": [
    "# Load a model\n",
    "# model = YOLO(\"yolo11n.pt\")  # load an official model\n",
    "model = YOLO(\"/home/furkanblt/PycharmProjects/UAV-Detection/runs/detect/train17/weights/best.pt\")  # load a custom model\n",
    "\n",
    "# Export the model\n",
    "model.export(format=\"onnx\")"
   ],
   "id": "4397bf2fee3ff429",
   "outputs": [
    {
     "name": "stdout",
     "output_type": "stream",
     "text": [
      "Ultralytics 8.3.80 🚀 Python-3.11.11 torch-2.5.1 CPU (11th Gen Intel Core(TM) i7-11800H 2.30GHz)\n",
      "YOLO11n summary (fused): 100 layers, 2,582,542 parameters, 0 gradients\n",
      "\n",
      "\u001B[34m\u001B[1mPyTorch:\u001B[0m starting from '/home/furkanblt/PycharmProjects/UAV-Detection/runs/detect/train17/weights/best.pt' with input shape (1, 3, 640, 640) BCHW and output shape(s) (1, 6, 8400) (5.2 MB)\n",
      "\n",
      "\u001B[34m\u001B[1mONNX:\u001B[0m starting export with onnx 1.17.0 opset 19...\n",
      "\u001B[34m\u001B[1mONNX:\u001B[0m slimming with onnxslim 0.1.48...\n",
      "\u001B[34m\u001B[1mONNX:\u001B[0m export success ✅ 1.0s, saved as '/home/furkanblt/PycharmProjects/UAV-Detection/runs/detect/train17/weights/best.onnx' (10.1 MB)\n",
      "\n",
      "Export complete (1.3s)\n",
      "Results saved to \u001B[1m/home/furkanblt/PycharmProjects/UAV-Detection/runs/detect/train17/weights\u001B[0m\n",
      "Predict:         yolo predict task=detect model=/home/furkanblt/PycharmProjects/UAV-Detection/runs/detect/train17/weights/best.onnx imgsz=640  \n",
      "Validate:        yolo val task=detect model=/home/furkanblt/PycharmProjects/UAV-Detection/runs/detect/train17/weights/best.onnx imgsz=640 data=/home/furkanblt/PycharmProjects/UAV-Detection/Dataset/DroneDetective/data.yaml  \n",
      "Visualize:       https://netron.app\n"
     ]
    },
    {
     "data": {
      "text/plain": [
       "'/home/furkanblt/PycharmProjects/UAV-Detection/runs/detect/train17/weights/best.onnx'"
      ]
     },
     "execution_count": 5,
     "metadata": {},
     "output_type": "execute_result"
    }
   ],
   "execution_count": 5
  },
  {
   "metadata": {
    "ExecuteTime": {
     "end_time": "2025-03-01T12:42:20.078233Z",
     "start_time": "2025-03-01T12:42:19.569919Z"
    }
   },
   "cell_type": "code",
   "source": [
    "from ultralytics import YOLO\n",
    "\n",
    "# Load a model\n",
    "model = YOLO(\"/home/furkanblt/PycharmProjects/UAV-Detection/runs/detect/train17/weights/best.pt\")  # load a custom model\n",
    "# Run batched inference on a list of images\n",
    "results = model(\"/home/furkanblt/PycharmProjects/UAV-Detection/drones.jpg\", stream=True)  # return a generator of Results objects\n",
    "\n",
    "# Process results generator\n",
    "for result in results:\n",
    "    boxes = result.boxes  # Boxes object for bounding box outputs\n",
    "    masks = result.masks  # Masks object for segmentation masks outputs\n",
    "    keypoints = result.keypoints  # Keypoints object for pose outputs\n",
    "    probs = result.probs  # Probs object for classification outputs\n",
    "    obb = result.obb  # Oriented boxes object for OBB outputs\n",
    "    result.show()  # display to screen\n",
    "    result.save(filename=\"drones1.jpg\")  # save to disk"
   ],
   "id": "ffdd5bb048bd2bef",
   "outputs": [
    {
     "name": "stdout",
     "output_type": "stream",
     "text": [
      "\n",
      "image 1/1 /home/furkanblt/PycharmProjects/UAV-Detection/drones.jpg: 448x640 5 drones, 45.2ms\n",
      "Speed: 1.4ms preprocess, 45.2ms inference, 0.9ms postprocess per image at shape (1, 3, 448, 640)\n"
     ]
    }
   ],
   "execution_count": 8
  },
  {
   "metadata": {},
   "cell_type": "code",
   "source": "",
   "id": "85306f659f831bb6",
   "outputs": [],
   "execution_count": null
  }
 ],
 "metadata": {
  "kernelspec": {
   "display_name": "Python 3",
   "language": "python",
   "name": "python3"
  },
  "language_info": {
   "codemirror_mode": {
    "name": "ipython",
    "version": 2
   },
   "file_extension": ".py",
   "mimetype": "text/x-python",
   "name": "python",
   "nbconvert_exporter": "python",
   "pygments_lexer": "ipython2",
   "version": "2.7.6"
  }
 },
 "nbformat": 4,
 "nbformat_minor": 5
}
