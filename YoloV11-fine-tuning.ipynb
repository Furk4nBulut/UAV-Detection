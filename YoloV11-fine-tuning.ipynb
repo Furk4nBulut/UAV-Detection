{
 "cells": [
  {
   "cell_type": "code",
   "id": "initial_id",
   "metadata": {
    "collapsed": true,
    "ExecuteTime": {
     "end_time": "2025-05-05T15:20:27.825491Z",
     "start_time": "2025-05-05T15:20:25.660508Z"
    }
   },
   "source": [
    "from ultralytics import YOLO\n",
    "import os\n",
    "import re"
   ],
   "outputs": [],
   "execution_count": 1
  },
  {
   "metadata": {
    "ExecuteTime": {
     "end_time": "2025-05-05T16:33:20.312260Z",
     "start_time": "2025-05-05T16:10:44.312517Z"
    }
   },
   "cell_type": "code",
   "source": [
    "def get_latest_yolo_weights(weights_dir=\"/home/furkanblt/PycharmProjects/UAV-Detection/runs/detect\"):\n",
    "    subdirs = [d for d in os.listdir(weights_dir)\n",
    "               if os.path.isdir(os.path.join(weights_dir, d)) and re.match(r\"train\\d+$\", d)]\n",
    "\n",
    "    if not subdirs:\n",
    "        raise FileNotFoundError(\"No valid training directories found.\")\n",
    "    latest_dir = sorted(subdirs, key=lambda x: int(x.replace(\"train\", \"\")))[-1]\n",
    "    weights_path = os.path.join(weights_dir, latest_dir, \"weights\", \"last.pt\")\n",
    "\n",
    "    if not os.path.exists(weights_path):\n",
    "        raise FileNotFoundError(f\"'last.pt' not found in {weights_path}\")\n",
    "\n",
    "    return weights_path\n",
    "\n",
    "model_path = get_latest_yolo_weights()\n",
    "model = YOLO(model_path)\n",
    "print(f\"{model_path} modeline devam edildi.\")\n",
    "# Eğitime devam et\n",
    "results = model.train(data=\"/home/furkanblt/PycharmProjects/UAV-Detection/Dataset/data.yaml\", epochs=3, imgsz=640)\n",
    "print(f\"{model_path} modeline devam edildi.\")"
   ],
   "id": "bf3a88b2f014e22b",
   "outputs": [
    {
     "name": "stdout",
     "output_type": "stream",
     "text": [
      "/home/furkanblt/PycharmProjects/UAV-Detection/runs/detect/train17/weights/last.pt modeline devam edildi.\n",
      "New https://pypi.org/project/ultralytics/8.3.127 available 😃 Update with 'pip install -U ultralytics'\n",
      "Ultralytics 8.3.118 🚀 Python-3.10.16 torch-2.7.0+cu126 CUDA:0 (NVIDIA GeForce RTX 3060 Laptop GPU, 5931MiB)\n",
      "\u001B[34m\u001B[1mengine/trainer: \u001B[0mtask=detect, mode=train, model=/home/furkanblt/PycharmProjects/UAV-Detection/runs/detect/train17/weights/last.pt, data=/home/furkanblt/PycharmProjects/UAV-Detection/Dataset/data.yaml, epochs=3, time=None, patience=100, batch=16, imgsz=640, save=True, save_period=-1, cache=False, device=None, workers=8, project=None, name=train18, exist_ok=False, pretrained=True, optimizer=auto, verbose=True, seed=0, deterministic=True, single_cls=False, rect=False, cos_lr=False, close_mosaic=10, resume=False, amp=True, fraction=1.0, profile=False, freeze=None, multi_scale=False, overlap_mask=True, mask_ratio=4, dropout=0.0, val=True, split=val, save_json=False, conf=None, iou=0.7, max_det=300, half=False, dnn=False, plots=True, source=None, vid_stride=1, stream_buffer=False, visualize=False, augment=False, agnostic_nms=False, classes=None, retina_masks=False, embed=None, show=False, save_frames=False, save_txt=False, save_conf=False, save_crop=False, show_labels=True, show_conf=True, show_boxes=True, line_width=None, format=torchscript, keras=False, optimize=False, int8=False, dynamic=False, simplify=True, opset=None, workspace=None, nms=False, lr0=0.01, lrf=0.01, momentum=0.937, weight_decay=0.0005, warmup_epochs=3.0, warmup_momentum=0.8, warmup_bias_lr=0.1, box=7.5, cls=0.5, dfl=1.5, pose=12.0, kobj=1.0, nbs=64, hsv_h=0.015, hsv_s=0.7, hsv_v=0.4, degrees=0.0, translate=0.1, scale=0.5, shear=0.0, perspective=0.0, flipud=0.0, fliplr=0.5, bgr=0.0, mosaic=1.0, mixup=0.0, copy_paste=0.0, copy_paste_mode=flip, auto_augment=randaugment, erasing=0.4, cfg=None, tracker=botsort.yaml, save_dir=runs/detect/train18\n",
      "\n",
      "                   from  n    params  module                                       arguments                     \n",
      "  0                  -1  1       464  ultralytics.nn.modules.conv.Conv             [3, 16, 3, 2]                 \n",
      "  1                  -1  1      4672  ultralytics.nn.modules.conv.Conv             [16, 32, 3, 2]                \n",
      "  2                  -1  1      6640  ultralytics.nn.modules.block.C3k2            [32, 64, 1, False, 0.25]      \n",
      "  3                  -1  1     36992  ultralytics.nn.modules.conv.Conv             [64, 64, 3, 2]                \n",
      "  4                  -1  1     26080  ultralytics.nn.modules.block.C3k2            [64, 128, 1, False, 0.25]     \n",
      "  5                  -1  1    147712  ultralytics.nn.modules.conv.Conv             [128, 128, 3, 2]              \n",
      "  6                  -1  1     87040  ultralytics.nn.modules.block.C3k2            [128, 128, 1, True]           \n",
      "  7                  -1  1    295424  ultralytics.nn.modules.conv.Conv             [128, 256, 3, 2]              \n",
      "  8                  -1  1    346112  ultralytics.nn.modules.block.C3k2            [256, 256, 1, True]           \n",
      "  9                  -1  1    164608  ultralytics.nn.modules.block.SPPF            [256, 256, 5]                 \n",
      " 10                  -1  1    249728  ultralytics.nn.modules.block.C2PSA           [256, 256, 1]                 \n",
      " 11                  -1  1         0  torch.nn.modules.upsampling.Upsample         [None, 2, 'nearest']          \n",
      " 12             [-1, 6]  1         0  ultralytics.nn.modules.conv.Concat           [1]                           \n",
      " 13                  -1  1    111296  ultralytics.nn.modules.block.C3k2            [384, 128, 1, False]          \n",
      " 14                  -1  1         0  torch.nn.modules.upsampling.Upsample         [None, 2, 'nearest']          \n",
      " 15             [-1, 4]  1         0  ultralytics.nn.modules.conv.Concat           [1]                           \n",
      " 16                  -1  1     32096  ultralytics.nn.modules.block.C3k2            [256, 64, 1, False]           \n",
      " 17                  -1  1     36992  ultralytics.nn.modules.conv.Conv             [64, 64, 3, 2]                \n",
      " 18            [-1, 13]  1         0  ultralytics.nn.modules.conv.Concat           [1]                           \n",
      " 19                  -1  1     86720  ultralytics.nn.modules.block.C3k2            [192, 128, 1, False]          \n",
      " 20                  -1  1    147712  ultralytics.nn.modules.conv.Conv             [128, 128, 3, 2]              \n",
      " 21            [-1, 10]  1         0  ultralytics.nn.modules.conv.Concat           [1]                           \n",
      " 22                  -1  1    378880  ultralytics.nn.modules.block.C3k2            [384, 256, 1, True]           \n",
      " 23        [16, 19, 22]  1    430867  ultralytics.nn.modules.head.Detect           [1, [64, 128, 256]]           \n",
      "YOLO11n summary: 181 layers, 2,590,035 parameters, 2,590,019 gradients, 6.4 GFLOPs\n",
      "\n",
      "Transferred 499/499 items from pretrained weights\n",
      "Freezing layer 'model.23.dfl.conv.weight'\n",
      "\u001B[34m\u001B[1mAMP: \u001B[0mrunning Automatic Mixed Precision (AMP) checks...\n",
      "\u001B[34m\u001B[1mAMP: \u001B[0mchecks passed ✅\n",
      "\u001B[34m\u001B[1mtrain: \u001B[0mFast image access ✅ (ping: 0.0±0.0 ms, read: 178.9±26.0 MB/s, size: 84.7 KB)\n"
     ]
    },
    {
     "name": "stderr",
     "output_type": "stream",
     "text": [
      "\u001B[34m\u001B[1mtrain: \u001B[0mScanning /home/furkanblt/PycharmProjects/UAV-Detection/Dataset/train/labels.cache... 54861 images, 3915 backgrounds, 0 corrupt: 100%|██████████| 54861/54861 [00:00<?, ?it/s]\n"
     ]
    },
    {
     "name": "stdout",
     "output_type": "stream",
     "text": [
      "WARNING ⚠️ Box and segment counts should be equal, but got len(segments) = 84, len(boxes) = 52332. To resolve this only boxes will be used and all segments will be removed. To avoid this please supply either a detect or segment dataset, not a detect-segment mixed dataset.\n",
      "\u001B[34m\u001B[1mval: \u001B[0mFast image access ✅ (ping: 0.0±0.0 ms, read: 463.3±221.7 MB/s, size: 52.3 KB)\n"
     ]
    },
    {
     "name": "stderr",
     "output_type": "stream",
     "text": [
      "\u001B[34m\u001B[1mval: \u001B[0mScanning /home/furkanblt/PycharmProjects/UAV-Detection/Dataset/valid/labels.cache... 3948 images, 216 backgrounds, 0 corrupt: 100%|██████████| 3948/3948 [00:00<?, ?it/s]"
     ]
    },
    {
     "name": "stdout",
     "output_type": "stream",
     "text": [
      "WARNING ⚠️ Box and segment counts should be equal, but got len(segments) = 5, len(boxes) = 3861. To resolve this only boxes will be used and all segments will be removed. To avoid this please supply either a detect or segment dataset, not a detect-segment mixed dataset.\n"
     ]
    },
    {
     "name": "stderr",
     "output_type": "stream",
     "text": [
      "\n"
     ]
    },
    {
     "name": "stdout",
     "output_type": "stream",
     "text": [
      "Plotting labels to runs/detect/train18/labels.jpg... \n",
      "\u001B[34m\u001B[1moptimizer:\u001B[0m 'optimizer=auto' found, ignoring 'lr0=0.01' and 'momentum=0.937' and determining best 'optimizer', 'lr0' and 'momentum' automatically... \n",
      "\u001B[34m\u001B[1moptimizer:\u001B[0m AdamW(lr=0.002, momentum=0.9) with parameter groups 81 weight(decay=0.0), 88 weight(decay=0.0005), 87 bias(decay=0.0)\n",
      "Image sizes 640 train, 640 val\n",
      "Using 8 dataloader workers\n",
      "Logging results to \u001B[1mruns/detect/train18\u001B[0m\n",
      "Starting training for 3 epochs...\n",
      "\n",
      "      Epoch    GPU_mem   box_loss   cls_loss   dfl_loss  Instances       Size\n"
     ]
    },
    {
     "name": "stderr",
     "output_type": "stream",
     "text": [
      "        1/3      2.19G     0.8912     0.5393       1.18         28        640: 100%|██████████| 3429/3429 [07:18<00:00,  7.83it/s]\n",
      "                 Class     Images  Instances      Box(P          R      mAP50  mAP50-95): 100%|██████████| 124/124 [00:14<00:00,  8.50it/s]"
     ]
    },
    {
     "name": "stdout",
     "output_type": "stream",
     "text": [
      "                   all       3948       3861      0.917      0.901      0.945      0.629\n"
     ]
    },
    {
     "name": "stderr",
     "output_type": "stream",
     "text": [
      "\n"
     ]
    },
    {
     "name": "stdout",
     "output_type": "stream",
     "text": [
      "\n",
      "      Epoch    GPU_mem   box_loss   cls_loss   dfl_loss  Instances       Size\n"
     ]
    },
    {
     "name": "stderr",
     "output_type": "stream",
     "text": [
      "        2/3      2.67G     0.8893     0.5372      1.176         30        640: 100%|██████████| 3429/3429 [07:11<00:00,  7.94it/s]\n",
      "                 Class     Images  Instances      Box(P          R      mAP50  mAP50-95): 100%|██████████| 124/124 [00:15<00:00,  8.02it/s]"
     ]
    },
    {
     "name": "stdout",
     "output_type": "stream",
     "text": [
      "                   all       3948       3861      0.934      0.891      0.946      0.634\n"
     ]
    },
    {
     "name": "stderr",
     "output_type": "stream",
     "text": [
      "\n"
     ]
    },
    {
     "name": "stdout",
     "output_type": "stream",
     "text": [
      "\n",
      "      Epoch    GPU_mem   box_loss   cls_loss   dfl_loss  Instances       Size\n"
     ]
    },
    {
     "name": "stderr",
     "output_type": "stream",
     "text": [
      "        3/3      2.67G     0.9429     0.5648      1.208         27        640: 100%|██████████| 3429/3429 [06:56<00:00,  8.24it/s]\n",
      "                 Class     Images  Instances      Box(P          R      mAP50  mAP50-95): 100%|██████████| 124/124 [00:14<00:00,  8.52it/s]"
     ]
    },
    {
     "name": "stdout",
     "output_type": "stream",
     "text": [
      "                   all       3948       3861      0.935      0.893       0.95      0.642\n"
     ]
    },
    {
     "name": "stderr",
     "output_type": "stream",
     "text": [
      "\n"
     ]
    },
    {
     "name": "stdout",
     "output_type": "stream",
     "text": [
      "\n",
      "3 epochs completed in 0.370 hours.\n",
      "Optimizer stripped from runs/detect/train18/weights/last.pt, 5.5MB\n",
      "Optimizer stripped from runs/detect/train18/weights/best.pt, 5.5MB\n",
      "\n",
      "Validating runs/detect/train18/weights/best.pt...\n",
      "Ultralytics 8.3.118 🚀 Python-3.10.16 torch-2.7.0+cu126 CUDA:0 (NVIDIA GeForce RTX 3060 Laptop GPU, 5931MiB)\n",
      "YOLO11n summary (fused): 100 layers, 2,582,347 parameters, 0 gradients, 6.3 GFLOPs\n"
     ]
    },
    {
     "name": "stderr",
     "output_type": "stream",
     "text": [
      "                 Class     Images  Instances      Box(P          R      mAP50  mAP50-95): 100%|██████████| 124/124 [00:15<00:00,  8.23it/s]\n"
     ]
    },
    {
     "name": "stdout",
     "output_type": "stream",
     "text": [
      "                   all       3948       3861      0.935      0.893       0.95      0.642\n",
      "Speed: 0.3ms preprocess, 1.5ms inference, 0.0ms loss, 0.6ms postprocess per image\n",
      "Results saved to \u001B[1mruns/detect/train18\u001B[0m\n",
      "/home/furkanblt/PycharmProjects/UAV-Detection/runs/detect/train17/weights/last.pt modeline devam edildi.\n"
     ]
    }
   ],
   "execution_count": 4
  },
  {
   "metadata": {
    "ExecuteTime": {
     "end_time": "2025-05-04T12:06:58.774186Z",
     "start_time": "2025-05-04T12:06:35.669170Z"
    }
   },
   "cell_type": "code",
   "source": [
    "# Load a model\n",
    "# model = YOLO(\"yolo11n.pt\")  # load an official model\n",
    "model = YOLO(\"/home/furkanblt/PycharmProjects/UAV-Detection/runs/detect/train11/weights/best.pt\")  # load a custom model\n",
    "\n",
    "# Validate the model\n",
    "metrics = model.val()  # no arguments needed, dataset and settings remembered\n",
    "metrics.box.map  # map50-95\n",
    "metrics.box.map50  # map50\n",
    "metrics.box.map75  # map75\n",
    "metrics.box.maps  # a list contains map50-95 of each category"
   ],
   "id": "24d23770401bf018",
   "outputs": [
    {
     "name": "stdout",
     "output_type": "stream",
     "text": [
      "Ultralytics 8.3.118 🚀 Python-3.10.16 torch-2.7.0+cu126 CUDA:0 (NVIDIA GeForce RTX 3060 Laptop GPU, 5931MiB)\n",
      "YOLO11n summary (fused): 100 layers, 2,582,347 parameters, 0 gradients, 6.3 GFLOPs\n",
      "\u001B[34m\u001B[1mval: \u001B[0mFast image access ✅ (ping: 0.0±0.0 ms, read: 133.1±52.8 MB/s, size: 74.5 KB)\n"
     ]
    },
    {
     "name": "stderr",
     "output_type": "stream",
     "text": [
      "\u001B[34m\u001B[1mval: \u001B[0mScanning /home/furkanblt/PycharmProjects/UAV-Detection/Dataset/valid/labels.cache... 3948 images, 216 backgrounds, 0 corrupt: 100%|██████████| 3948/3948 [00:00<?, ?it/s]"
     ]
    },
    {
     "name": "stdout",
     "output_type": "stream",
     "text": [
      "WARNING ⚠️ Box and segment counts should be equal, but got len(segments) = 5, len(boxes) = 3861. To resolve this only boxes will be used and all segments will be removed. To avoid this please supply either a detect or segment dataset, not a detect-segment mixed dataset.\n"
     ]
    },
    {
     "name": "stderr",
     "output_type": "stream",
     "text": [
      "\n",
      "                 Class     Images  Instances      Box(P          R      mAP50  mAP50-95): 100%|██████████| 247/247 [00:18<00:00, 13.53it/s]\n"
     ]
    },
    {
     "name": "stdout",
     "output_type": "stream",
     "text": [
      "                   all       3948       3861      0.936      0.883      0.946      0.631\n",
      "Speed: 0.3ms preprocess, 2.6ms inference, 0.0ms loss, 0.5ms postprocess per image\n",
      "Results saved to \u001B[1mruns/detect/val\u001B[0m\n"
     ]
    },
    {
     "data": {
      "text/plain": [
       "array([    0.63084])"
      ]
     },
     "execution_count": 3,
     "metadata": {},
     "output_type": "execute_result"
    }
   ],
   "execution_count": 3
  },
  {
   "metadata": {
    "ExecuteTime": {
     "end_time": "2025-05-04T12:08:10.873826Z",
     "start_time": "2025-05-04T12:08:10.692437Z"
    }
   },
   "cell_type": "code",
   "source": [
    "# Load a model\n",
    "# model = YOLO(\"yolo11n.pt\")  # load an official model\n",
    "model = YOLO(\"/home/furkanblt/PycharmProjects/UAV-Detection/runs/detect/train11/weights/best.pt\")  # load a custom model\n",
    "\n",
    "# Predict with the model\n",
    "results = model(\"/home/furkanblt/PycharmProjects/UAV-Detection/validations/bt2.jpg\")  # predict on an image\n",
    "\n",
    "# Access the results\n",
    "for result in results:\n",
    "    xywh = result.boxes.xywh  # center-x, center-y, width, height\n",
    "    xywhn = result.boxes.xywhn  # normalized\n",
    "    xyxy = result.boxes.xyxy  # top-left-x, top-left-y, bottom-right-x, bottom-right-y\n",
    "    xyxyn = result.boxes.xyxyn  # normalized\n",
    "    names = [result.names[cls.item()] for cls in result.boxes.cls.int()]  # class name of each box\n",
    "    confs = result.boxes.conf  # confidence score of each box\n"
   ],
   "id": "bd2cf7225150d379",
   "outputs": [
    {
     "name": "stdout",
     "output_type": "stream",
     "text": [
      "\n",
      "image 1/1 /home/furkanblt/PycharmProjects/UAV-Detection/validations/bt2.jpg: 416x640 1 UAV, 44.7ms\n",
      "Speed: 1.8ms preprocess, 44.7ms inference, 0.9ms postprocess per image at shape (1, 3, 416, 640)\n"
     ]
    }
   ],
   "execution_count": 4
  },
  {
   "metadata": {
    "ExecuteTime": {
     "end_time": "2025-05-04T12:08:17.414198Z",
     "start_time": "2025-05-04T12:08:16.161314Z"
    }
   },
   "cell_type": "code",
   "source": [
    "# Load a model\n",
    "# model = YOLO(\"yolo11n.pt\")  # load an official model\n",
    "model = YOLO(\"/home/furkanblt/PycharmProjects/UAV-Detection/runs/detect/train11/weights/best.pt\")  # load a custom model\n",
    "\n",
    "# Export the model\n",
    "model.export(format=\"onnx\")\n"
   ],
   "id": "a0b2cc346b31a73b",
   "outputs": [
    {
     "name": "stdout",
     "output_type": "stream",
     "text": [
      "Ultralytics 8.3.118 🚀 Python-3.10.16 torch-2.7.0+cu126 CPU (11th Gen Intel Core(TM) i7-11800H 2.30GHz)\n",
      "YOLO11n summary (fused): 100 layers, 2,582,347 parameters, 0 gradients, 6.3 GFLOPs\n",
      "\n",
      "\u001B[34m\u001B[1mPyTorch:\u001B[0m starting from '/home/furkanblt/PycharmProjects/UAV-Detection/runs/detect/train11/weights/best.pt' with input shape (1, 3, 640, 640) BCHW and output shape(s) (1, 5, 8400) (5.2 MB)\n",
      "\n",
      "\u001B[34m\u001B[1mONNX:\u001B[0m starting export with onnx 1.17.0 opset 19...\n",
      "\u001B[34m\u001B[1mONNX:\u001B[0m slimming with onnxslim 0.1.51...\n",
      "\u001B[34m\u001B[1mONNX:\u001B[0m export success ✅ 1.0s, saved as '/home/furkanblt/PycharmProjects/UAV-Detection/runs/detect/train11/weights/best.onnx' (10.1 MB)\n",
      "\n",
      "Export complete (1.2s)\n",
      "Results saved to \u001B[1m/home/furkanblt/PycharmProjects/UAV-Detection/runs/detect/train11/weights\u001B[0m\n",
      "Predict:         yolo predict task=detect model=/home/furkanblt/PycharmProjects/UAV-Detection/runs/detect/train11/weights/best.onnx imgsz=640  \n",
      "Validate:        yolo val task=detect model=/home/furkanblt/PycharmProjects/UAV-Detection/runs/detect/train11/weights/best.onnx imgsz=640 data=/home/furkanblt/PycharmProjects/UAV-Detection/Dataset/data.yaml  \n",
      "Visualize:       https://netron.app\n"
     ]
    },
    {
     "data": {
      "text/plain": [
       "'/home/furkanblt/PycharmProjects/UAV-Detection/runs/detect/train11/weights/best.onnx'"
      ]
     },
     "execution_count": 5,
     "metadata": {},
     "output_type": "execute_result"
    }
   ],
   "execution_count": 5
  },
  {
   "metadata": {
    "ExecuteTime": {
     "end_time": "2025-05-04T12:08:52.481092Z",
     "start_time": "2025-05-04T12:08:51.758549Z"
    }
   },
   "cell_type": "code",
   "source": [
    "# Load a model\n",
    "model = YOLO(\"/home/furkanblt/PycharmProjects/UAV-Detection/runs/detect/train11/weights/best.pt\")  # load a custom model\n",
    "# Run batched inference on a list of images\n",
    "results = model(\"/home/furkanblt/PycharmProjects/UAV-Detection/validations/bt2.jpg\",\n",
    "                stream=True)  # return a generator of Results objects\n",
    "\n",
    "# Process results generator\n",
    "for result in results:\n",
    "    boxes = result.boxes  # Boxes object for bounding box outputs\n",
    "    masks = result.masks  # Masks object for segmentation masks outputs\n",
    "    keypoints = result.keypoints  # Keypoints object for pose outputs\n",
    "    probs = result.probs  # Probs object for classification outputs\n",
    "    obb = result.obb  # Oriented boxes object for OBB outputs\n",
    "    result.show()  # display to screen\n",
    "    print(result)\n",
    "    result.save(filename=\"validations/result-finetuning.jpg\")  # save to disk"
   ],
   "id": "d47b6ff56bc107e4",
   "outputs": [
    {
     "name": "stdout",
     "output_type": "stream",
     "text": [
      "\n",
      "image 1/1 /home/furkanblt/PycharmProjects/UAV-Detection/validations/bt2.jpg: 416x640 1 UAV, 5.5ms\n",
      "ultralytics.engine.results.Results object with attributes:\n",
      "\n",
      "boxes: ultralytics.engine.results.Boxes object\n",
      "keypoints: None\n",
      "masks: None\n",
      "names: {0: 'UAV'}\n",
      "obb: None\n",
      "orig_img: array([[[187, 187, 187],\n",
      "        [187, 187, 187],\n",
      "        [187, 187, 187],\n",
      "        ...,\n",
      "        [190, 192, 192],\n",
      "        [190, 192, 192],\n",
      "        [190, 192, 192]],\n",
      "\n",
      "       [[188, 188, 188],\n",
      "        [188, 188, 188],\n",
      "        [188, 188, 188],\n",
      "        ...,\n",
      "        [190, 192, 192],\n",
      "        [191, 193, 193],\n",
      "        [191, 193, 193]],\n",
      "\n",
      "       [[189, 189, 189],\n",
      "        [189, 189, 189],\n",
      "        [189, 189, 189],\n",
      "        ...,\n",
      "        [190, 192, 192],\n",
      "        [192, 194, 194],\n",
      "        [192, 194, 194]],\n",
      "\n",
      "       ...,\n",
      "\n",
      "       [[ 59,  55,  54],\n",
      "        [ 76,  72,  71],\n",
      "        [ 87,  83,  82],\n",
      "        ...,\n",
      "        [ 78,  74,  73],\n",
      "        [ 71,  67,  66],\n",
      "        [ 59,  55,  54]],\n",
      "\n",
      "       [[ 69,  65,  64],\n",
      "        [ 77,  73,  72],\n",
      "        [ 76,  72,  71],\n",
      "        ...,\n",
      "        [ 72,  68,  67],\n",
      "        [ 83,  79,  78],\n",
      "        [ 74,  70,  69]],\n",
      "\n",
      "       [[ 73,  69,  68],\n",
      "        [ 75,  71,  70],\n",
      "        [ 74,  70,  69],\n",
      "        ...,\n",
      "        [ 62,  58,  57],\n",
      "        [ 78,  74,  73],\n",
      "        [ 83,  79,  78]]], dtype=uint8)\n",
      "orig_shape: (1374, 2250)\n",
      "path: '/home/furkanblt/PycharmProjects/UAV-Detection/validations/bt2.jpg'\n",
      "probs: None\n",
      "save_dir: 'runs/detect/predict'\n",
      "speed: {'preprocess': 1.4354780014400603, 'inference': 5.46618699991086, 'postprocess': 0.8214469999074936}\n",
      "Speed: 1.4ms preprocess, 5.5ms inference, 0.8ms postprocess per image at shape (1, 3, 416, 640)\n"
     ]
    }
   ],
   "execution_count": 8
  }
 ],
 "metadata": {
  "kernelspec": {
   "display_name": "Python 3",
   "language": "python",
   "name": "python3"
  },
  "language_info": {
   "codemirror_mode": {
    "name": "ipython",
    "version": 2
   },
   "file_extension": ".py",
   "mimetype": "text/x-python",
   "name": "python",
   "nbconvert_exporter": "python",
   "pygments_lexer": "ipython2",
   "version": "2.7.6"
  }
 },
 "nbformat": 4,
 "nbformat_minor": 5
}
